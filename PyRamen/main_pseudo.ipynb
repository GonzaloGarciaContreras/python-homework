{
 "metadata": {
  "language_info": {
   "codemirror_mode": {
    "name": "ipython",
    "version": 3
   },
   "file_extension": ".py",
   "mimetype": "text/x-python",
   "name": "python",
   "nbconvert_exporter": "python",
   "pygments_lexer": "ipython3",
   "version": "3.7.4-final"
  },
  "orig_nbformat": 2,
  "kernelspec": {
   "name": "python_defaultSpec_1600829274951",
   "display_name": "Python 3.7.4 64-bit ('base': conda)"
  }
 },
 "nbformat": 4,
 "nbformat_minor": 2,
 "cells": [
  {
   "cell_type": "code",
   "execution_count": null,
   "metadata": {},
   "outputs": [],
   "source": [
    "\"\"\"\n",
    "\n",
    "Analyze how well your business did on a per-product basis (as you have several choices of ramen) in order to better understand which products are doing well, which are doing poorly, and, ultimately, which products may need to be removed or changed.\n",
    "\n",
    "1/ Read the Data\n",
    "-Read in menu_data.csv and set its contents to a separate list object. \n",
    "    Initialize an empty menu list object to hold the contents of menu_data.csv.\n",
    "    Use a with statement and open the menu_data.csv by using its file path.\n",
    "    Use the reader function from the csv library to begin reading menu_data.csv.\n",
    "    Use the next function to skip the header (first row of the CSV).\n",
    "    Loop over the rest of the rows and append every row to the menu list object (the outcome will be a list of lists).\n",
    "-Set up the same process to read in sales_data.csv. \n",
    "    -However, instead append every row of the sales data to a new sales list object.\n",
    "\n",
    "2/ Manipulate the Data\n",
    "    -Initialize an empty report dictionary to hold the future aggregated per-product results. \n",
    "    The report dictionary will eventually contain the following metrics:\n",
    "        01-count: the total quantity for each ramen type\n",
    "        02-revenue: the total revenue for each ramen type\n",
    "        03-cogs: the total cost of goods sold for each ramen type\n",
    "        04-profit: the total profit for each ramen type\n",
    "    -Then, loop through every row in the sales list object.\n",
    "        For each row of the sales data, set the following columns of the sales data to their own variables:\n",
    "            Quantity\n",
    "            Menu_Item\n",
    "        Perform a quick check if the sales_item is already included in the report. \n",
    "        If not, initialize the key-value pairs for the particular sales_item in the report. \n",
    "        Then, set the sales_item as a new key to the report dictionary and the values as a nested dictionary containing the following:\n",
    "                {\n",
    "                \"01-count\": 0,\n",
    "                \"02-revenue\": 0,\n",
    "                \"03-cogs\": 0,\n",
    "                \"04-profit\": 0,\n",
    "                }\n",
    "    -Create a nested loop by looping through every record in menu.\n",
    "    For each row of the menu data, set the following columns of the menu data to their own variables:\n",
    "                Item, Price, Cost\n",
    "    If the sales_item in sales is equal to the item in menu, capture the quantity from the sales data and the price and cost from the menu data to calculate the profit for each item.\n",
    "    Cumulatively add the values to the corresponding metrics in the report like so:\n",
    "    Else print the message \"{sales_item} does not equal {item}! NO MATCH!\".\n",
    "\n",
    "3/ Write out the contents of the report dictionary to a text file. \n",
    "\n",
    "\n",
    "\"\"\""
   ]
  },
  {
   "cell_type": "code",
   "execution_count": null,
   "metadata": {},
   "outputs": [],
   "source": [
    "\n"
   ]
  },
  {
   "cell_type": "code",
   "execution_count": 48,
   "metadata": {},
   "outputs": [],
   "source": [
    "# Import libraries\n",
    "import csv\n",
    "from pathlib import Path\n",
    "\n",
    "# Set file paths for menu_data.csv and sales_data.csv\n",
    "menu_filepath = Path('../resources/menu_data.csv')\n",
    "sales_filepath = Path('../resources/sales_data.csv')\n",
    "\n",
    "# Initialize list objects to hold our menu and sales data\n",
    "menu_list = []\n",
    "sales_list = []"
   ]
  },
  {
   "cell_type": "code",
   "execution_count": 49,
   "metadata": {
    "tags": []
   },
   "outputs": [
    {
     "output_type": "stream",
     "name": "stdout",
     "text": "\n\n   the 2 lists are equal\n"
    }
   ],
   "source": [
    "# 1- Read Data\n",
    "# Read in the menu data into the menu list (# read csv file as a list of lists)\n",
    "\n",
    "def f_read_menu(filepath):\n",
    "    with open(filepath, \"r\") as csvfile:\n",
    "        my_csvreader = csv.reader(csvfile)\n",
    "        next(my_csvreader)  \n",
    "\n",
    "        # Pass reader object to list() to get a list of lists\n",
    "        menu_list = list(my_csvreader)\n",
    "        \n",
    "    return menu_list\n",
    "\n",
    "# Read in the menu data into the menu list (#append)\n",
    "#this function is not requiered only to test append \n",
    "\n",
    "def f_read_menu1(filepath):\n",
    "    with open(filepath, \"r\") as csvfile:\n",
    "        my_csvreader = csv.reader(csvfile)\n",
    "        next(my_csvreader)  \n",
    "\n",
    "        # append row to menu1_list Pass reader object to list() to get a list of lists\n",
    "        for row in my_csvreader:\n",
    "            menu1_list.append(row)\n",
    "\n",
    "    return menu1_list\n",
    "\n",
    "menu_list = []\n",
    "menu1_list = []\n",
    "\n",
    "menu_list = f_read_menu(menu_filepath)\n",
    "menu1_list = f_read_menu1(menu_filepath)\n",
    "\n",
    "#print(menu_list)\n",
    "#print(menu1_list)\n",
    "\n",
    "if menu_list == menu1_list:\n",
    "    print(\"\\n\\n   the 2 lists are equal\")\n",
    "else:\n",
    "    print(\"\\n\\n not equal\")\n",
    "\n"
   ]
  },
  {
   "cell_type": "code",
   "execution_count": 51,
   "metadata": {
    "tags": []
   },
   "outputs": [
    {
     "output_type": "stream",
     "name": "stdout",
     "text": "nr rows in csv 74124, nr of items in list 74124\n"
    }
   ],
   "source": [
    "# 2- Read Data \n",
    "# Read in the sales data (in sales_data.csv) into the sales list (#append)\n",
    "\n",
    "def f_nr_rec_sales(filepath):\n",
    "    with open(filepath, \"r\") as csvfile:           \n",
    "        my_csvreader = csv.reader(csvfile)\n",
    "        next(my_csvreader)  \n",
    "\n",
    "        nr_rec_sales = len(list(my_csvreader))    \n",
    "\n",
    "    return nr_rec_sales \n",
    "\n",
    "def f_read_sales(filepath):\n",
    "    with open(filepath, \"r\") as csvfile:\n",
    "        my_csvreader = csv.reader(csvfile)\n",
    "        next(my_csvreader)  \n",
    "\n",
    "        # append row to menu1_list Pass reader object to list() to get a list of lists\n",
    "        for row in my_csvreader:\n",
    "            sales_list.append(row)\n",
    "\n",
    "    return sales_list\n",
    "\n",
    "sales_list = []\n",
    "nr_rec_sales = f_nr_rec_sales(sales_filepath)\n",
    "sales_list = f_read_sales(sales_filepath)\n",
    "\n",
    "# verify nr of rows is consistent cvs = list ?\n",
    "print(f\"nr rows in csv {nr_rec_sales}, nr of items in list {sales_list[-1][0]}\")\n",
    "if nr_rec_sales != int(sales_list[-1][0]):\n",
    "    print (\"error !! sales csv and list are not consistant\")\n",
    "\n",
    "\n",
    "\n",
    "\n",
    "\n"
   ]
  },
  {
   "cell_type": "code",
   "execution_count": null,
   "metadata": {},
   "outputs": [],
   "source": []
  },
  {
   "cell_type": "code",
   "execution_count": 68,
   "metadata": {
    "tags": [
     "outputPrepend"
    ]
   },
   "outputs": [
    {
     "output_type": "stream",
     "name": "stdout",
     "text": " equal tonkotsu ramen! NO MATCH!\nmiso crab ramen does not equal burnt garlic tonkotsu ramen! NO MATCH!\nmiso crab ramen does not equal vegetarian curry + king trumpet mushroom ramen! NO MATCH!\nmiso crab ramen does not equal truffle butter ramen! NO MATCH!\nmiso crab ramen does not equal green tea! NO MATCH!\nmiso crab ramen does not equal coke! NO MATCH!\nmiso crab ramen does not equal black sesame ice cream! NO MATCH!\nmiso crab ramen does not equal matcha ice cream! NO MATCH!\nmiso crab ramen does not equal mango mochi ice cream! NO MATCH!\nmiso crab ramen does not equal strawberry mochi ice cream! NO MATCH!\nmiso crab ramen does not equal black sesame creme brulee! NO MATCH!\nnagomi shoyu does not equal edamame! NO MATCH!\nnagomi shoyu does not equal house salad! NO MATCH!\nnagomi shoyu does not equal cucumber sunomono salad! NO MATCH!\nnagomi shoyu does not equal hiyashi wakame seaweed salad! NO MATCH!\nnagomi shoyu does not equal agedashi tofu! NO MATCH!\nnagomi shoyu does not equal hiyayakko tofu! NO MATCH!\nnagomi shoyu does not equal pork floss bao! NO MATCH!\nnagomi shoyu does not equal kakuni bao! NO MATCH!\nnagomi shoyu does not equal edamame fried gyoza (vegan)! NO MATCH!\nnagomi shoyu does not equal fried gyoza! NO MATCH!\nnagomi shoyu does not equal takoyaki! NO MATCH!\nnagomi shoyu does not equal rock shrimp tempura! NO MATCH!\nnagomi shoyu does not equal soft-shell crab tempura! NO MATCH!\nnagomi shoyu does not equal ebi katsu shrimp bao! NO MATCH!\nnagomi shoyu does not equal shio ramen! NO MATCH!\nnagomi shoyu does not equal spicy miso ramen! NO MATCH!\nnagomi shoyu does not equal vegetarian spicy miso! NO MATCH!\nnagomi shoyu does not equal miso crab ramen! NO MATCH!\nnagomi shoyu does not equal soft-shell miso crab ramen! NO MATCH!\nnagomi shoyu does not equal tori paitan ramen! NO MATCH!\nnagomi shoyu does not equal tonkotsu ramen! NO MATCH!\nnagomi shoyu does not equal burnt garlic tonkotsu ramen! NO MATCH!\nnagomi shoyu does not equal vegetarian curry + king trumpet mushroom ramen! NO MATCH!\nnagomi shoyu does not equal truffle butter ramen! NO MATCH!\nnagomi shoyu does not equal green tea! NO MATCH!\nnagomi shoyu does not equal coke! NO MATCH!\nnagomi shoyu does not equal black sesame ice cream! NO MATCH!\nnagomi shoyu does not equal matcha ice cream! NO MATCH!\nnagomi shoyu does not equal mango mochi ice cream! NO MATCH!\nnagomi shoyu does not equal strawberry mochi ice cream! NO MATCH!\nnagomi shoyu does not equal black sesame creme brulee! NO MATCH!\nnagomi shoyu does not equal edamame! NO MATCH!\nnagomi shoyu does not equal house salad! NO MATCH!\nnagomi shoyu does not equal cucumber sunomono salad! NO MATCH!\nnagomi shoyu does not equal hiyashi wakame seaweed salad! NO MATCH!\nnagomi shoyu does not equal agedashi tofu! NO MATCH!\nnagomi shoyu does not equal hiyayakko tofu! NO MATCH!\nnagomi shoyu does not equal pork floss bao! NO MATCH!\nnagomi shoyu does not equal kakuni bao! NO MATCH!\nnagomi shoyu does not equal edamame fried gyoza (vegan)! NO MATCH!\nnagomi shoyu does not equal fried gyoza! NO MATCH!\nnagomi shoyu does not equal takoyaki! NO MATCH!\nnagomi shoyu does not equal rock shrimp tempura! NO MATCH!\nnagomi shoyu does not equal soft-shell crab tempura! NO MATCH!\nnagomi shoyu does not equal ebi katsu shrimp bao! NO MATCH!\nnagomi shoyu does not equal shio ramen! NO MATCH!\nnagomi shoyu does not equal spicy miso ramen! NO MATCH!\nnagomi shoyu does not equal vegetarian spicy miso! NO MATCH!\nnagomi shoyu does not equal miso crab ramen! NO MATCH!\nnagomi shoyu does not equal soft-shell miso crab ramen! NO MATCH!\nnagomi shoyu does not equal tori paitan ramen! NO MATCH!\nnagomi shoyu does not equal tonkotsu ramen! NO MATCH!\nnagomi shoyu does not equal burnt garlic tonkotsu ramen! NO MATCH!\nnagomi shoyu does not equal vegetarian curry + king trumpet mushroom ramen! NO MATCH!\nnagomi shoyu does not equal truffle butter ramen! NO MATCH!\nnagomi shoyu does not equal green tea! NO MATCH!\nnagomi shoyu does not equal coke! NO MATCH!\nnagomi shoyu does not equal black sesame ice cream! NO MATCH!\nnagomi shoyu does not equal matcha ice cream! NO MATCH!\nnagomi shoyu does not equal mango mochi ice cream! NO MATCH!\nnagomi shoyu does not equal strawberry mochi ice cream! NO MATCH!\nnagomi shoyu does not equal black sesame creme brulee! NO MATCH!\ntori paitan ramen does not equal edamame! NO MATCH!\ntori paitan ramen does not equal house salad! NO MATCH!\ntori paitan ramen does not equal cucumber sunomono salad! NO MATCH!\ntori paitan ramen does not equal hiyashi wakame seaweed salad! NO MATCH!\ntori paitan ramen does not equal agedashi tofu! NO MATCH!\ntori paitan ramen does not equal hiyayakko tofu! NO MATCH!\ntori paitan ramen does not equal pork floss bao! NO MATCH!\ntori paitan ramen does not equal kakuni bao! NO MATCH!\ntori paitan ramen does not equal edamame fried gyoza (vegan)! NO MATCH!\ntori paitan ramen does not equal fried gyoza! NO MATCH!\ntori paitan ramen does not equal takoyaki! NO MATCH!\ntori paitan ramen does not equal rock shrimp tempura! NO MATCH!\ntori paitan ramen does not equal soft-shell crab tempura! NO MATCH!\ntori paitan ramen does not equal ebi katsu shrimp bao! NO MATCH!\ntori paitan ramen does not equal nagomi shoyu! NO MATCH!\ntori paitan ramen does not equal shio ramen! NO MATCH!\ntori paitan ramen does not equal spicy miso ramen! NO MATCH!\ntori paitan ramen does not equal vegetarian spicy miso! NO MATCH!\ntori paitan ramen does not equal miso crab ramen! NO MATCH!\ntori paitan ramen does not equal soft-shell miso crab ramen! NO MATCH!\ntori paitan ramen does not equal tonkotsu ramen! NO MATCH!\ntori paitan ramen does not equal burnt garlic tonkotsu ramen! NO MATCH!\ntori paitan ramen does not equal vegetarian curry + king trumpet mushroom ramen! NO MATCH!\ntori paitan ramen does not equal truffle butter ramen! NO MATCH!\ntori paitan ramen does not equal green tea! NO MATCH!\ntori paitan ramen does not equal coke! NO MATCH!\ntori paitan ramen does not equal black sesame ice cream! NO MATCH!\ntori paitan ramen does not equal matcha ice cream! NO MATCH!\ntori paitan ramen does not equal mango mochi ice cream! NO MATCH!\ntori paitan ramen does not equal strawberry mochi ice cream! NO MATCH!\ntori paitan ramen does not equal black sesame creme brulee! NO MATCH!\ntori paitan ramen does not equal edamame! NO MATCH!\ntori paitan ramen does not equal house salad! NO MATCH!\ntori paitan ramen does not equal cucumber sunomono salad! NO MATCH!\ntori paitan ramen does not equal hiyashi wakame seaweed salad! NO MATCH!\ntori paitan ramen does not equal agedashi tofu! NO MATCH!\ntori paitan ramen does not equal hiyayakko tofu! NO MATCH!\ntori paitan ramen does not equal pork floss bao! NO MATCH!\ntori paitan ramen does not equal kakuni bao! NO MATCH!\ntori paitan ramen does not equal edamame fried gyoza (vegan)! NO MATCH!\ntori paitan ramen does not equal fried gyoza! NO MATCH!\ntori paitan ramen does not equal takoyaki! NO MATCH!\ntori paitan ramen does not equal rock shrimp tempura! NO MATCH!\ntori paitan ramen does not equal soft-shell crab tempura! NO MATCH!\ntori paitan ramen does not equal ebi katsu shrimp bao! NO MATCH!\ntori paitan ramen does not equal nagomi shoyu! NO MATCH!\ntori paitan ramen does not equal shio ramen! NO MATCH!\ntori paitan ramen does not equal spicy miso ramen! NO MATCH!\ntori paitan ramen does not equal vegetarian spicy miso! NO MATCH!\ntori paitan ramen does not equal miso crab ramen! NO MATCH!\ntori paitan ramen does not equal soft-shell miso crab ramen! NO MATCH!\ntori paitan ramen does not equal tonkotsu ramen! NO MATCH!\ntori paitan ramen does not equal burnt garlic tonkotsu ramen! NO MATCH!\ntori paitan ramen does not equal vegetarian curry + king trumpet mushroom ramen! NO MATCH!\ntori paitan ramen does not equal truffle butter ramen! NO MATCH!\ntori paitan ramen does not equal green tea! NO MATCH!\ntori paitan ramen does not equal coke! NO MATCH!\ntori paitan ramen does not equal black sesame ice cream! NO MATCH!\ntori paitan ramen does not equal matcha ice cream! NO MATCH!\ntori paitan ramen does not equal mango mochi ice cream! NO MATCH!\ntori paitan ramen does not equal strawberry mochi ice cream! NO MATCH!\ntori paitan ramen does not equal black sesame creme brulee! NO MATCH!\ntonkotsu ramen does not equal edamame! NO MATCH!\ntonkotsu ramen does not equal house salad! NO MATCH!\ntonkotsu ramen does not equal cucumber sunomono salad! NO MATCH!\ntonkotsu ramen does not equal hiyashi wakame seaweed salad! NO MATCH!\ntonkotsu ramen does not equal agedashi tofu! NO MATCH!\ntonkotsu ramen does not equal hiyayakko tofu! NO MATCH!\ntonkotsu ramen does not equal pork floss bao! NO MATCH!\ntonkotsu ramen does not equal kakuni bao! NO MATCH!\ntonkotsu ramen does not equal edamame fried gyoza (vegan)! NO MATCH!\ntonkotsu ramen does not equal fried gyoza! NO MATCH!\ntonkotsu ramen does not equal takoyaki! NO MATCH!\ntonkotsu ramen does not equal rock shrimp tempura! NO MATCH!\ntonkotsu ramen does not equal soft-shell crab tempura! NO MATCH!\ntonkotsu ramen does not equal ebi katsu shrimp bao! NO MATCH!\ntonkotsu ramen does not equal nagomi shoyu! NO MATCH!\ntonkotsu ramen does not equal shio ramen! NO MATCH!\ntonkotsu ramen does not equal spicy miso ramen! NO MATCH!\ntonkotsu ramen does not equal vegetarian spicy miso! NO MATCH!\ntonkotsu ramen does not equal miso crab ramen! NO MATCH!\ntonkotsu ramen does not equal soft-shell miso crab ramen! NO MATCH!\ntonkotsu ramen does not equal tori paitan ramen! NO MATCH!\ntonkotsu ramen does not equal burnt garlic tonkotsu ramen! NO MATCH!\ntonkotsu ramen does not equal vegetarian curry + king trumpet mushroom ramen! NO MATCH!\ntonkotsu ramen does not equal truffle butter ramen! NO MATCH!\ntonkotsu ramen does not equal green tea! NO MATCH!\ntonkotsu ramen does not equal coke! NO MATCH!\ntonkotsu ramen does not equal black sesame ice cream! NO MATCH!\ntonkotsu ramen does not equal matcha ice cream! NO MATCH!\ntonkotsu ramen does not equal mango mochi ice cream! NO MATCH!\ntonkotsu ramen does not equal strawberry mochi ice cream! NO MATCH!\ntonkotsu ramen does not equal black sesame creme brulee! NO MATCH!\ntonkotsu ramen does not equal edamame! NO MATCH!\ntonkotsu ramen does not equal house salad! NO MATCH!\ntonkotsu ramen does not equal cucumber sunomono salad! NO MATCH!\ntonkotsu ramen does not equal hiyashi wakame seaweed salad! NO MATCH!\ntonkotsu ramen does not equal agedashi tofu! NO MATCH!\ntonkotsu ramen does not equal hiyayakko tofu! NO MATCH!\ntonkotsu ramen does not equal pork floss bao! NO MATCH!\ntonkotsu ramen does not equal kakuni bao! NO MATCH!\ntonkotsu ramen does not equal edamame fried gyoza (vegan)! NO MATCH!\ntonkotsu ramen does not equal fried gyoza! NO MATCH!\ntonkotsu ramen does not equal takoyaki! NO MATCH!\ntonkotsu ramen does not equal rock shrimp tempura! NO MATCH!\ntonkotsu ramen does not equal soft-shell crab tempura! NO MATCH!\ntonkotsu ramen does not equal ebi katsu shrimp bao! NO MATCH!\ntonkotsu ramen does not equal nagomi shoyu! NO MATCH!\ntonkotsu ramen does not equal shio ramen! NO MATCH!\ntonkotsu ramen does not equal spicy miso ramen! NO MATCH!\ntonkotsu ramen does not equal vegetarian spicy miso! NO MATCH!\ntonkotsu ramen does not equal miso crab ramen! NO MATCH!\ntonkotsu ramen does not equal soft-shell miso crab ramen! NO MATCH!\ntonkotsu ramen does not equal tori paitan ramen! NO MATCH!\ntonkotsu ramen does not equal burnt garlic tonkotsu ramen! NO MATCH!\ntonkotsu ramen does not equal vegetarian curry + king trumpet mushroom ramen! NO MATCH!\ntonkotsu ramen does not equal truffle butter ramen! NO MATCH!\ntonkotsu ramen does not equal green tea! NO MATCH!\ntonkotsu ramen does not equal coke! NO MATCH!\ntonkotsu ramen does not equal black sesame ice cream! NO MATCH!\ntonkotsu ramen does not equal matcha ice cream! NO MATCH!\ntonkotsu ramen does not equal mango mochi ice cream! NO MATCH!\ntonkotsu ramen does not equal strawberry mochi ice cream! NO MATCH!\ntonkotsu ramen does not equal black sesame creme brulee! NO MATCH!\nvegetarian spicy miso does not equal edamame! NO MATCH!\nvegetarian spicy miso does not equal house salad! NO MATCH!\nvegetarian spicy miso does not equal cucumber sunomono salad! NO MATCH!\nvegetarian spicy miso does not equal hiyashi wakame seaweed salad! NO MATCH!\nvegetarian spicy miso does not equal agedashi tofu! NO MATCH!\nvegetarian spicy miso does not equal hiyayakko tofu! NO MATCH!\nvegetarian spicy miso does not equal pork floss bao! NO MATCH!\nvegetarian spicy miso does not equal kakuni bao! NO MATCH!\nvegetarian spicy miso does not equal edamame fried gyoza (vegan)! NO MATCH!\nvegetarian spicy miso does not equal fried gyoza! NO MATCH!\nvegetarian spicy miso does not equal takoyaki! NO MATCH!\nvegetarian spicy miso does not equal rock shrimp tempura! NO MATCH!\nvegetarian spicy miso does not equal soft-shell crab tempura! NO MATCH!\nvegetarian spicy miso does not equal ebi katsu shrimp bao! NO MATCH!\nvegetarian spicy miso does not equal nagomi shoyu! NO MATCH!\nvegetarian spicy miso does not equal shio ramen! NO MATCH!\nvegetarian spicy miso does not equal spicy miso ramen! NO MATCH!\nvegetarian spicy miso does not equal miso crab ramen! NO MATCH!\nvegetarian spicy miso does not equal soft-shell miso crab ramen! NO MATCH!\nvegetarian spicy miso does not equal tori paitan ramen! NO MATCH!\nvegetarian spicy miso does not equal tonkotsu ramen! NO MATCH!\nvegetarian spicy miso does not equal burnt garlic tonkotsu ramen! NO MATCH!\nvegetarian spicy miso does not equal vegetarian curry + king trumpet mushroom ramen! NO MATCH!\nvegetarian spicy miso does not equal truffle butter ramen! NO MATCH!\nvegetarian spicy miso does not equal green tea! NO MATCH!\nvegetarian spicy miso does not equal coke! NO MATCH!\nvegetarian spicy miso does not equal black sesame ice cream! NO MATCH!\nvegetarian spicy miso does not equal matcha ice cream! NO MATCH!\nvegetarian spicy miso does not equal mango mochi ice cream! NO MATCH!\nvegetarian spicy miso does not equal strawberry mochi ice cream! NO MATCH!\nvegetarian spicy miso does not equal black sesame creme brulee! NO MATCH!\nvegetarian spicy miso does not equal edamame! NO MATCH!\nvegetarian spicy miso does not equal house salad! NO MATCH!\nvegetarian spicy miso does not equal cucumber sunomono salad! NO MATCH!\nvegetarian spicy miso does not equal hiyashi wakame seaweed salad! NO MATCH!\nvegetarian spicy miso does not equal agedashi tofu! NO MATCH!\nvegetarian spicy miso does not equal hiyayakko tofu! NO MATCH!\nvegetarian spicy miso does not equal pork floss bao! NO MATCH!\nvegetarian spicy miso does not equal kakuni bao! NO MATCH!\nvegetarian spicy miso does not equal edamame fried gyoza (vegan)! NO MATCH!\nvegetarian spicy miso does not equal fried gyoza! NO MATCH!\nvegetarian spicy miso does not equal takoyaki! NO MATCH!\nvegetarian spicy miso does not equal rock shrimp tempura! NO MATCH!\nvegetarian spicy miso does not equal soft-shell crab tempura! NO MATCH!\nvegetarian spicy miso does not equal ebi katsu shrimp bao! NO MATCH!\nvegetarian spicy miso does not equal nagomi shoyu! NO MATCH!\nvegetarian spicy miso does not equal shio ramen! NO MATCH!\nvegetarian spicy miso does not equal spicy miso ramen! NO MATCH!\nvegetarian spicy miso does not equal miso crab ramen! NO MATCH!\nvegetarian spicy miso does not equal soft-shell miso crab ramen! NO MATCH!\nvegetarian spicy miso does not equal tori paitan ramen! NO MATCH!\nvegetarian spicy miso does not equal tonkotsu ramen! NO MATCH!\nvegetarian spicy miso does not equal burnt garlic tonkotsu ramen! NO MATCH!\nvegetarian spicy miso does not equal vegetarian curry + king trumpet mushroom ramen! NO MATCH!\nvegetarian spicy miso does not equal truffle butter ramen! NO MATCH!\nvegetarian spicy miso does not equal green tea! NO MATCH!\nvegetarian spicy miso does not equal coke! NO MATCH!\nvegetarian spicy miso does not equal black sesame ice cream! NO MATCH!\nvegetarian spicy miso does not equal matcha ice cream! NO MATCH!\nvegetarian spicy miso does not equal mango mochi ice cream! NO MATCH!\nvegetarian spicy miso does not equal strawberry mochi ice cream! NO MATCH!\nvegetarian spicy miso does not equal black sesame creme brulee! NO MATCH!\nspicy miso ramen does not equal edamame! NO MATCH!\nspicy miso ramen does not equal house salad! NO MATCH!\nspicy miso ramen does not equal cucumber sunomono salad! NO MATCH!\nspicy miso ramen does not equal hiyashi wakame seaweed salad! NO MATCH!\nspicy miso ramen does not equal agedashi tofu! NO MATCH!\nspicy miso ramen does not equal hiyayakko tofu! NO MATCH!\nspicy miso ramen does not equal pork floss bao! NO MATCH!\nspicy miso ramen does not equal kakuni bao! NO MATCH!\nspicy miso ramen does not equal edamame fried gyoza (vegan)! NO MATCH!\nspicy miso ramen does not equal fried gyoza! NO MATCH!\nspicy miso ramen does not equal takoyaki! NO MATCH!\nspicy miso ramen does not equal rock shrimp tempura! NO MATCH!\nspicy miso ramen does not equal soft-shell crab tempura! NO MATCH!\nspicy miso ramen does not equal ebi katsu shrimp bao! NO MATCH!\nspicy miso ramen does not equal nagomi shoyu! NO MATCH!\nspicy miso ramen does not equal shio ramen! NO MATCH!\nspicy miso ramen does not equal vegetarian spicy miso! NO MATCH!\nspicy miso ramen does not equal miso crab ramen! NO MATCH!\nspicy miso ramen does not equal soft-shell miso crab ramen! NO MATCH!\nspicy miso ramen does not equal tori paitan ramen! NO MATCH!\nspicy miso ramen does not equal tonkotsu ramen! NO MATCH!\nspicy miso ramen does not equal burnt garlic tonkotsu ramen! NO MATCH!\nspicy miso ramen does not equal vegetarian curry + king trumpet mushroom ramen! NO MATCH!\nspicy miso ramen does not equal truffle butter ramen! NO MATCH!\nspicy miso ramen does not equal green tea! NO MATCH!\nspicy miso ramen does not equal coke! NO MATCH!\nspicy miso ramen does not equal black sesame ice cream! NO MATCH!\nspicy miso ramen does not equal matcha ice cream! NO MATCH!\nspicy miso ramen does not equal mango mochi ice cream! NO MATCH!\nspicy miso ramen does not equal strawberry mochi ice cream! NO MATCH!\nspicy miso ramen does not equal black sesame creme brulee! NO MATCH!\nspicy miso ramen does not equal edamame! NO MATCH!\nspicy miso ramen does not equal house salad! NO MATCH!\nspicy miso ramen does not equal cucumber sunomono salad! NO MATCH!\nspicy miso ramen does not equal hiyashi wakame seaweed salad! NO MATCH!\nspicy miso ramen does not equal agedashi tofu! NO MATCH!\nspicy miso ramen does not equal hiyayakko tofu! NO MATCH!\nspicy miso ramen does not equal pork floss bao! NO MATCH!\nspicy miso ramen does not equal kakuni bao! NO MATCH!\nspicy miso ramen does not equal edamame fried gyoza (vegan)! NO MATCH!\nspicy miso ramen does not equal fried gyoza! NO MATCH!\nspicy miso ramen does not equal takoyaki! NO MATCH!\nspicy miso ramen does not equal rock shrimp tempura! NO MATCH!\nspicy miso ramen does not equal soft-shell crab tempura! NO MATCH!\nspicy miso ramen does not equal ebi katsu shrimp bao! NO MATCH!\nspicy miso ramen does not equal nagomi shoyu! NO MATCH!\nspicy miso ramen does not equal shio ramen! NO MATCH!\nspicy miso ramen does not equal vegetarian spicy miso! NO MATCH!\nspicy miso ramen does not equal miso crab ramen! NO MATCH!\nspicy miso ramen does not equal soft-shell miso crab ramen! NO MATCH!\nspicy miso ramen does not equal tori paitan ramen! NO MATCH!\nspicy miso ramen does not equal tonkotsu ramen! NO MATCH!\nspicy miso ramen does not equal burnt garlic tonkotsu ramen! NO MATCH!\nspicy miso ramen does not equal vegetarian curry + king trumpet mushroom ramen! NO MATCH!\nspicy miso ramen does not equal truffle butter ramen! NO MATCH!\nspicy miso ramen does not equal green tea! NO MATCH!\nspicy miso ramen does not equal coke! NO MATCH!\nspicy miso ramen does not equal black sesame ice cream! NO MATCH!\nspicy miso ramen does not equal matcha ice cream! NO MATCH!\nspicy miso ramen does not equal mango mochi ice cream! NO MATCH!\nspicy miso ramen does not equal strawberry mochi ice cream! NO MATCH!\nspicy miso ramen does not equal black sesame creme brulee! NO MATCH!\n32\nspicy miso ramen\n2\n['74124', '12-31-2018', '5981057609583653', '2', 'spicy miso ramen']\n"
    }
   ],
   "source": [
    "# @TODO: Initialize dict object to hold our key-value pairs of items and metrics\n",
    "dic_report = {}\n",
    "\n",
    "# Initialize a row counter variable\n",
    "row_count = 0\n",
    "\n",
    "# @TODO: Loop over every row in the sales list object\n",
    "\n",
    "for sales in sales_list:\n",
    "    row_count += 1\n",
    "\n",
    "    # Line_Item_ID,Date,Credit_Card_Number,Quantity,Menu_Item\n",
    "    # @TODO: Initialize sales data variables\n",
    "    sales_menu_item = sales[4]\n",
    "    sales_qty = int(sales[3])\n",
    "\n",
    "    # @TODO:\n",
    "    # If the item value not in the report, add it as a new entry with initialized metrics\n",
    "    # Naming convention allows the keys to be ordered in logical fashion, count, revenue, cost, profit\n",
    "    key_to_lookup = sales_menu_item\n",
    "    if key_to_lookup not in dic_report:\n",
    "        print (\"Key does not exist\")\n",
    "        dic_report[key_to_lookup] = {\n",
    "                                    \"01-count\": 0,\n",
    "                                    \"02-revenue\": 0,\n",
    "                                    \"03-cogs\": 0,\n",
    "                                    \"04-profit\": 0,\n",
    "                                    }\n",
    "        print(key_to_lookup, dic_report[key_to_lookup])\n",
    "\n",
    "    # @TODO: For every row in our sales data, loop over the menu records to determine a match\n",
    "    for menu in menu_list:\n",
    "\n",
    "        # Item,Category,Description,Price,Cost\n",
    "        # @TODO: Initialize menu data variables\n",
    "        menu_item = menu[0]\n",
    "        menu_price = float(menu[3])\n",
    "        menu_cost = float(menu[4])\n",
    "        menu_profit = menu_price - menu_cost \n",
    "\n",
    "         # @TODO: Calculate profit of each item in the menu data\n",
    "        if menu_item == sales_menu_item:\n",
    "\n",
    "            # update report (dictionary with new sales)\n",
    "            dic_report[sales_menu_item][\"01-count\"] += sales_qty\n",
    "            dic_report[sales_menu_item][\"02-revenue\"] += menu_price * sales_qty\n",
    "            dic_report[sales_menu_item][\"03-cogs\"] += menu_cost * sales_qty\n",
    "            dic_report[sales_menu_item][\"04-profit\"] += menu_profit * sales_qty\n",
    "        else:\n",
    "            print(f\"{sales_menu_item} does not equal {menu_item}! NO MATCH!\")\n",
    "\n",
    "\n",
    "# print number of sales year-to-date \n",
    "print(f\"number of sales year-to-date is {row_count})\n",
    "\n",
    "\n",
    "\n",
    "\n",
    "    \n",
    "\n",
    "\n",
    "\n",
    "\n",
    "\n",
    "\n",
    "\n",
    "\n",
    "\n",
    "\n",
    "\n",
    "\n",
    "       \n",
    "\n"
   ]
  },
  {
   "cell_type": "code",
   "execution_count": 91,
   "metadata": {
    "tags": []
   },
   "outputs": [],
   "source": [
    "# Export a text file with the results\n",
    "def f_export_text_file (filepath, results):\n",
    "    with open(filepath, \"w\") as file:\n",
    "        for result in results:\n",
    "            str_record = f\"{result} {results[result]} \\n\"\n",
    "            #print(str_record)\n",
    "            #file.write(result + \"\\n\")\n",
    "            file.write(str_record)\n",
    "\n",
    "\n",
    "    return \n",
    "\n",
    "#Write out the contents of the report dictionary to a text file. \n",
    "# The report should output each ramen type as the keys and 01-count, 02-revenue, 03-cogs, and 04-profit metrics \n",
    "filepath_text = Path(\"../resources/results_ramen.txt\")\n",
    "f_export_text_file (filepath_text, dic_report)"
   ]
  },
  {
   "cell_type": "code",
   "execution_count": null,
   "metadata": {},
   "outputs": [],
   "source": [
    "spicy miso ramen {'01-count': 9238, '02-revenue': 110856.0, '03-cogs': 46190.0, '04-profit': 64666.0}\n",
    "tori paitan ramen {'01-count': 9156, '02-revenue': 119028.0, '03-cogs': 54936.0, '04-profit': 64092.0}\n",
    "truffle butter ramen {'01-count': 8982, '02-revenue': 125748.0, '03-cogs': 62874.0, '04-profit': 62874.0}\n",
    "tonkotsu ramen {'01-count': 9288, '02-revenue': 120744.0, '03-cogs': 55728.0, '04-profit': 65016.0}\n",
    "vegetarian spicy miso {'01-count': 9216, '02-revenue': 110592.0, '03-cogs': 46080.0, '04-profit': 64512.0}\n",
    "shio ramen {'01-count': 9180, '02-revenue': 100980.0, '03-cogs': 45900.0, '04-profit': 55080.0}\n",
    "miso crab ramen {'01-count': 8890, '02-revenue': 106680.0, '03-cogs': 53340.0, '04-profit': 53340.0}\n",
    "nagomi shoyu {'01-count': 9132, '02-revenue': 100452.0, '03-cogs': 45660.0, '04-profit': 54792.0}\n",
    "soft-shell miso crab ramen {'01-count': 9130, '02-revenue': 127820.0, '03-cogs': 63910.0, '04-profit': 63910.0}\n",
    "burnt garlic tonkotsu ramen {'01-count': 9070, '02-revenue': 126980.0, '03-cogs': 54420.0, '04-profit': 72560.0}\n",
    "vegetarian curry + king trumpet mushroom ramen {'01-count': 8824, '02-revenue': 114712.0, '03-cogs': 61768.0, '04-profit': 52944.0}\n"
   ]
  },
  {
   "cell_type": "code",
   "execution_count": null,
   "metadata": {},
   "outputs": [],
   "source": [
    "spicy miso ramen {'01-count': 9238, '02-revenue': 110856.0, '03-cogs': 46190.0, '04-profit': 64666.0} \n",
    "tori paitan ramen {'01-count': 9156, '02-revenue': 119028.0, '03-cogs': 54936.0, '04-profit': 64092.0} \n",
    "truffle butter ramen {'01-count': 8982, '02-revenue': 125748.0, '03-cogs': 62874.0, '04-profit': 62874.0} \n",
    "tonkotsu ramen {'01-count': 9288, '02-revenue': 120744.0, '03-cogs': 55728.0, '04-profit': 65016.0} \n",
    "vegetarian spicy miso {'01-count': 9216, '02-revenue': 110592.0, '03-cogs': 46080.0, '04-profit': 64512.0} \n",
    "shio ramen {'01-count': 9180, '02-revenue': 100980.0, '03-cogs': 45900.0, '04-profit': 55080.0} \n",
    "miso crab ramen {'01-count': 8890, '02-revenue': 106680.0, '03-cogs': 53340.0, '04-profit': 53340.0} \n",
    "nagomi shoyu {'01-count': 9132, '02-revenue': 100452.0, '03-cogs': 45660.0, '04-profit': 54792.0} \n",
    "soft-shell miso crab ramen {'01-count': 9130, '02-revenue': 127820.0, '03-cogs': 63910.0, '04-profit': 63910.0} \n",
    "burnt garlic tonkotsu ramen {'01-count': 9070, '02-revenue': 126980.0, '03-cogs': 54420.0, '04-profit': 72560.0} \n",
    "vegetarian curry + king trumpet mushroom ramen {'01-count': 8824, '02-revenue': 114712.0, '03-cogs': 61768.0, '04-profit': 52944.0} "
   ]
  },
  {
   "cell_type": "code",
   "execution_count": 45,
   "metadata": {
    "tags": []
   },
   "outputs": [
    {
     "output_type": "stream",
     "name": "stdout",
     "text": "Bob\nDev\n\n\n\nemp1 Bob\nemp2 Kim\nemp3 Sam\nKey does not exist\n{'emp1': {'name': 'Bob', 'job': 'Mgr'}, 'emp2': {'name': 'Kim', 'job': 'Dev'}, 'emp3': {'name': 'Sam', 'job': 'Dev'}, 'emp6': {'name': 'G6', 'job': 'J6'}}\n"
    }
   ],
   "source": [
    "D = {'emp1': {'name': 'Bob', 'job': 'Mgr'},\n",
    "     'emp2': {'name': 'Kim', 'job': 'Dev'},\n",
    "     'emp3': {'name': 'Sam', 'job': 'Dev'}}\n",
    "\n",
    "print(D['emp1']['name'])\n",
    "# Prints Bob\n",
    "\n",
    "print(D['emp2']['job'])\n",
    "# Prints Dev\n",
    "print(\"\\n\\n\")\n",
    "\n",
    "for x in D:\n",
    "    print(x, D[x]['name'])\n",
    "\n",
    "\n",
    "key_to_lookup = 'emp6'\n",
    "if key_to_lookup not in D:\n",
    "  print (\"Key does not exist\")\n",
    "  D['emp6'] = {'name': 'G6', 'job': 'J6'}\n",
    "  print(D)\n",
    "else:\n",
    "  print (\"Key exists\")\n"
   ]
  },
  {
   "cell_type": "code",
   "execution_count": null,
   "metadata": {},
   "outputs": [],
   "source": []
  }
 ]
}